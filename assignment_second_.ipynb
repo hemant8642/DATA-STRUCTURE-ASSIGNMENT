{
  "nbformat": 4,
  "nbformat_minor": 0,
  "metadata": {
    "colab": {
      "provenance": []
    },
    "kernelspec": {
      "name": "python3",
      "display_name": "Python 3"
    },
    "language_info": {
      "name": "python"
    }
  },
  "cells": [
    {
      "cell_type": "markdown",
      "source": [
        "**QUE 1 Discuss string slicing and provide examples**"
      ],
      "metadata": {
        "id": "HESqjADjIRHO"
      }
    },
    {
      "cell_type": "markdown",
      "source": [
        "**ANS:**\n",
        "String slicing is a process of extracting a portion of a string by specifying a range of indices. The resulting substring can be used for various purposes, such as data extraction, validation, or manipulation.\n",
        "\n",
        "Basic Syntax\n",
        "\n",
        "The basic syntax for string slicing is:\n",
        "\n",
        "string_name[start_index:end_index]\n",
        "\n",
        "Where:\n",
        "\n",
        "- string_name is the original string.\n",
        "- start_index is the starting position of the substring (inclusive).\n",
        "- end_index is the ending position of the substring (exclusive).\n"
      ],
      "metadata": {
        "id": "MNuXybx9I3r5"
      }
    },
    {
      "cell_type": "code",
      "source": [
        "#Examples\n",
        "\n",
        "#1. Simple Slicing\n",
        "\n",
        "my_string = \"Hello World\"\n",
        "\n",
        "print(my_string[0:5])\n",
        "\n",
        "print(my_string[6:11])"
      ],
      "metadata": {
        "colab": {
          "base_uri": "https://localhost:8080/"
        },
        "id": "G-pwF32_JCRc",
        "outputId": "87fce9ad-5454-4e36-f608-e77913d8b966"
      },
      "execution_count": 2,
      "outputs": [
        {
          "output_type": "stream",
          "name": "stdout",
          "text": [
            "Hello\n",
            "World\n"
          ]
        }
      ]
    },
    {
      "cell_type": "markdown",
      "source": [
        "**QUE 2ND: Explain the key features of lists in Python**"
      ],
      "metadata": {
        "id": "GBtoH-haJt8F"
      }
    },
    {
      "cell_type": "markdown",
      "source": [
        "**ANS**\n",
        "Lists are a fundamental data structure in Python, offering efficient and flexible ways to store and manipulate collections of data. Here are the key features of lists in Python:\n",
        "\n",
        "Key Features:\n",
        "\n",
        "1. Ordered Collection: Lists maintain the order of elements.\n",
        "2. Mutable: Lists can be modified after creation.\n",
        "3. Indexed: Elements are accessed via integer indices (0-based).\n",
        "4. Dynamic Size: Lists can grow or shrink dynamically.\n",
        "5. Heterogeneous: Lists can store diverse data types (int, float, str, etc.).\n",
        "\n",
        "List Operations:\n",
        "\n",
        "1. Indexing: Accessing elements using square brackets [].\n",
        "2. Slicing: Extracting subsets using start:stop:step.\n",
        "3. Append: Adding elements using append() or extend().\n",
        "4. Insert: Inserting elements at specific positions using insert().\n",
        "5. Remove: Deleting elements using remove() or pop().\n",
        "6. Sort: Sorting lists using sort() or sorted().\n",
        "7. Reverse: Reversing lists using reverse().\n",
        "\n",
        "List Methods:\n",
        "\n",
        "1. append(element): Adds an element to the end.\n",
        "2. extend(iterable): Adds multiple elements.\n",
        "3. insert(index, element): Inserts at a specific position.\n",
        "4. remove(element): Removes the first occurrence.\n",
        "5. pop(index): Removes and returns an element.\n",
        "6. index(element): Returns the index of an element.\n",
        "7. count(element): Returns the number of occurrences.\n",
        "8. sort(): Sorts the list in-place.\n",
        "9. reverse(): Reverses the list in-place.\n"
      ],
      "metadata": {
        "id": "CRIfDcl_KUHb"
      }
    },
    {
      "cell_type": "markdown",
      "source": [
        "**QUE 3RD: Describe how to access, modify, and delete elements in a list with examples**"
      ],
      "metadata": {
        "id": "RCJg-358KxvJ"
      }
    },
    {
      "cell_type": "markdown",
      "source": [
        "**ANS**:\n",
        "**Accessing Elements**\n"
      ],
      "metadata": {
        "id": "gh0a474lL12N"
      }
    },
    {
      "cell_type": "code",
      "source": [
        "#Here's how to access, modify, and delete elements in a list:\n",
        "\n",
        "#Accessing Elements\n",
        "\n",
        "#1. Indexing: Use square brackets [] with the index.\n",
        "\n",
        "#Example:\n",
        "\n",
        "my_list = [1, 2, 3, 4, 5]\n",
        "print(my_list[0])\n"
      ],
      "metadata": {
        "colab": {
          "base_uri": "https://localhost:8080/"
        },
        "id": "J3jSrafXLdIa",
        "outputId": "20d04be1-449e-4dcd-bfd4-d1e4f283bff2"
      },
      "execution_count": 4,
      "outputs": [
        {
          "output_type": "stream",
          "name": "stdout",
          "text": [
            "1\n"
          ]
        }
      ]
    },
    {
      "cell_type": "code",
      "source": [
        "#2. Negative Indexing: Use negative indices to access from the end.\n",
        "\n",
        "#Example:\n",
        "\n",
        "my_list = [1, 2, 3, 4, 5]\n",
        "print(my_list[-1])\n"
      ],
      "metadata": {
        "colab": {
          "base_uri": "https://localhost:8080/"
        },
        "id": "Nl5rQPf9Lv_j",
        "outputId": "3ebdfbf0-0b4d-4d2e-ac9b-dbfe66d5aa94"
      },
      "execution_count": 5,
      "outputs": [
        {
          "output_type": "stream",
          "name": "stdout",
          "text": [
            "5\n"
          ]
        }
      ]
    },
    {
      "cell_type": "code",
      "source": [
        "#3. Slicing: Use start:stop:step to access a subset.\n",
        "\n",
        "#Example:\n",
        "\n",
        "my_list = [1, 2, 3, 4, 5]\n",
        "print(my_list[1:3])\n"
      ],
      "metadata": {
        "colab": {
          "base_uri": "https://localhost:8080/"
        },
        "id": "TbtFkiheMFjR",
        "outputId": "2927e650-2245-446c-f4f0-280e3f6cb8af"
      },
      "execution_count": 6,
      "outputs": [
        {
          "output_type": "stream",
          "name": "stdout",
          "text": [
            "[2, 3]\n"
          ]
        }
      ]
    },
    {
      "cell_type": "markdown",
      "source": [
        "**Modifying Elements**"
      ],
      "metadata": {
        "id": "tuBNjH8LM013"
      }
    },
    {
      "cell_type": "code",
      "source": [
        "#. Assignment: Assign a new value to an index.\n",
        "\n",
        "#Example:\n",
        "\n",
        "my_list = [1, 2, 3, 4, 5]\n",
        "my_list[0] = 10\n",
        "print(my_list)\n",
        "\n"
      ],
      "metadata": {
        "colab": {
          "base_uri": "https://localhost:8080/"
        },
        "id": "w7ZUTIszNM32",
        "outputId": "78d4749a-9fe1-48b5-d337-c82d0d2b36e6"
      },
      "execution_count": 8,
      "outputs": [
        {
          "output_type": "stream",
          "name": "stdout",
          "text": [
            "[10, 2, 3, 4, 5]\n"
          ]
        }
      ]
    },
    {
      "cell_type": "code",
      "source": [
        "#2. Slice Assignment: Replace a subset with new values.\n",
        "\n",
        "#Example:\n",
        "\n",
        "my_list = [1, 2, 3, 4, 5]\n",
        "my_list[1:3] = [20, 30]\n",
        "print(my_list)\n"
      ],
      "metadata": {
        "colab": {
          "base_uri": "https://localhost:8080/"
        },
        "id": "8WIl0nd2Ne-r",
        "outputId": "050664ce-20ec-427b-b008-b737a8e556fc"
      },
      "execution_count": 10,
      "outputs": [
        {
          "output_type": "stream",
          "name": "stdout",
          "text": [
            "[1, 20, 30, 4, 5]\n"
          ]
        }
      ]
    },
    {
      "cell_type": "code",
      "source": [
        "#3. Append: Add an element to the end.\n",
        "\n",
        "#Example:\n",
        "\n",
        "my_list = [1, 2, 3, 4, 5]\n",
        "my_list.append(6)\n",
        "print(my_list)\n",
        "\n"
      ],
      "metadata": {
        "colab": {
          "base_uri": "https://localhost:8080/"
        },
        "id": "OFf56kKvNorT",
        "outputId": "7bf56b66-bf9f-49d4-ff45-73426f477646"
      },
      "execution_count": 12,
      "outputs": [
        {
          "output_type": "stream",
          "name": "stdout",
          "text": [
            "[1, 2, 3, 4, 5, 6]\n"
          ]
        }
      ]
    },
    {
      "cell_type": "code",
      "source": [
        "#4. Insert: Insert an element at a specific position.\n",
        "\n",
        "#Example:\n",
        "\n",
        "my_list = [1, 2, 3, 4, 5]\n",
        "my_list.insert(2, 10)\n",
        "print(my_list)\n",
        "\n"
      ],
      "metadata": {
        "colab": {
          "base_uri": "https://localhost:8080/"
        },
        "id": "P40OEKyPNrvu",
        "outputId": "bd995098-965b-42a9-ea80-eef849eefca1"
      },
      "execution_count": 15,
      "outputs": [
        {
          "output_type": "stream",
          "name": "stdout",
          "text": [
            "[1, 2, 10, 3, 4, 5]\n"
          ]
        }
      ]
    },
    {
      "cell_type": "markdown",
      "source": [
        "**Deleting Elements**"
      ],
      "metadata": {
        "id": "bYAyjk0zN6Tv"
      }
    },
    {
      "cell_type": "code",
      "source": [
        "#1. Pop: Remove and return an element at an index.\n",
        "\n",
        "#Example:\n",
        "\n",
        "my_list = [1, 2, 3, 4, 5]\n",
        "print(my_list.pop(0))\n",
        "print(my_list)"
      ],
      "metadata": {
        "colab": {
          "base_uri": "https://localhost:8080/"
        },
        "id": "SD7mkZgcOCCM",
        "outputId": "b369e0b6-dddb-465a-f028-aef92a0d8945"
      },
      "execution_count": 17,
      "outputs": [
        {
          "output_type": "stream",
          "name": "stdout",
          "text": [
            "1\n",
            "[2, 3, 4, 5]\n"
          ]
        }
      ]
    },
    {
      "cell_type": "code",
      "source": [
        "#2. Remove: Remove the first occurrence of an element.\n",
        "\n",
        "#Example:\n",
        "\n",
        "my_list = [1, 2, 3, 4, 5]\n",
        "my_list.remove(3)\n",
        "print(my_list)\n",
        "\n"
      ],
      "metadata": {
        "colab": {
          "base_uri": "https://localhost:8080/"
        },
        "id": "y-QS-EXPOHLF",
        "outputId": "3603a2fb-f77a-4691-e920-fae4c8414ec3"
      },
      "execution_count": 19,
      "outputs": [
        {
          "output_type": "stream",
          "name": "stdout",
          "text": [
            "[1, 2, 4, 5]\n"
          ]
        }
      ]
    },
    {
      "cell_type": "code",
      "source": [
        "#3. Del Statement: Delete an element or slice.\n",
        "\n",
        "#Example:\n",
        "\n",
        "my_list = [1, 2, 3, 4, 5]\n",
        "del my_list[0]\n",
        "print(my_list)\n",
        "\n"
      ],
      "metadata": {
        "colab": {
          "base_uri": "https://localhost:8080/"
        },
        "id": "T19DB2reOQ1M",
        "outputId": "97011846-357b-44d0-bc7a-048461ef4831"
      },
      "execution_count": 21,
      "outputs": [
        {
          "output_type": "stream",
          "name": "stdout",
          "text": [
            "[2, 3, 4, 5]\n"
          ]
        }
      ]
    },
    {
      "cell_type": "code",
      "source": [
        "#4. Clear: Remove all elements.\n",
        "\n",
        "#Example:\n",
        "\n",
        "my_list = [1, 2, 3, 4, 5]\n",
        "my_list.clear()\n",
        "print(my_list)\n"
      ],
      "metadata": {
        "colab": {
          "base_uri": "https://localhost:8080/"
        },
        "id": "pDwvr8zQOYJ6",
        "outputId": "4bc602ee-abf0-4524-877f-fcb7c27bd29e"
      },
      "execution_count": 23,
      "outputs": [
        {
          "output_type": "stream",
          "name": "stdout",
          "text": [
            "[]\n"
          ]
        }
      ]
    },
    {
      "cell_type": "markdown",
      "source": [
        "**QUE 4TH:Compare and contrast tuples and lists with examples**"
      ],
      "metadata": {
        "id": "qmWggteOOvY8"
      }
    },
    {
      "cell_type": "markdown",
      "source": [
        "**ANS**"
      ],
      "metadata": {
        "id": "4DCE3mW6PGqR"
      }
    },
    {
      "cell_type": "markdown",
      "source": [
        "Tuples and lists are two fundamental data structures in Python, sharing similarities but with key differences:\n",
        "\n",
        "**Similarities:**\n",
        "\n",
        "1. Both store collections of data.\n",
        "2. Both support indexing, slicing, and iteration.\n",
        "3. Both can contain mixed data types.\n",
        "\n",
        "**Differences:**\n",
        "\n",
        "1. Immutability: Tuples are immutable (unchangeable), while lists are mutable.\n",
        "2. Syntax: Tuples use parentheses (), while lists use square brackets [].\n",
        "3. Performance: Tuples are faster and more memory-efficient.\n",
        "\n",
        "**Tuple Characteristics:**\n",
        "\n",
        "1. Immutable\n",
        "2. Faster execution\n",
        "3. Less memory usage\n",
        "4. Useful for constant data\n",
        "\n",
        "**List Characteristics:**\n",
        "\n",
        "1. Mutable\n",
        "2. Slower execution\n",
        "3. More memory usage\n",
        "4. Useful for dynamic data\n"
      ],
      "metadata": {
        "id": "wxAAAxHxPJEp"
      }
    },
    {
      "cell_type": "code",
      "source": [
        "#Examples:\n",
        "\n",
        "#Tuple:\n",
        "\n",
        "my_tuple = (1, 2, 3, 4, 5)\n",
        "print(my_tuple[0])\n",
        "# my_tuple[0] = 10"
      ],
      "metadata": {
        "colab": {
          "base_uri": "https://localhost:8080/"
        },
        "id": "dRzV2vtdP39z",
        "outputId": "7c36814b-8971-40a1-931f-4c1732f07f5b"
      },
      "execution_count": 25,
      "outputs": [
        {
          "output_type": "stream",
          "name": "stdout",
          "text": [
            "1\n"
          ]
        }
      ]
    },
    {
      "cell_type": "code",
      "source": [
        "#List:\n",
        "\n",
        "my_list = [1, 2, 3, 4, 5]\n",
        "print(my_list[0])\n",
        "my_list[0] = 10\n",
        "print(my_list)\n"
      ],
      "metadata": {
        "colab": {
          "base_uri": "https://localhost:8080/"
        },
        "id": "PAXJjoePP7Z6",
        "outputId": "85efb1ae-569b-44b1-ebd9-bf93a76f2173"
      },
      "execution_count": 27,
      "outputs": [
        {
          "output_type": "stream",
          "name": "stdout",
          "text": [
            "1\n",
            "[10, 2, 3, 4, 5]\n"
          ]
        }
      ]
    },
    {
      "cell_type": "markdown",
      "source": [
        "**QUE 5TH: Describe the key features of sets and provide examples of their use**"
      ],
      "metadata": {
        "id": "Y2KqM5DzQRYM"
      }
    },
    {
      "cell_type": "markdown",
      "source": [
        "**ANS**:\n",
        "Sets are a fundamental data structure in Python, providing efficient and flexible ways to store and manipulate unique elements. Here are the key features of sets and examples of their use:\n",
        "\n",
        "**Key Features:**\n",
        "\n",
        "1. Unordered collection of unique elements.\n",
        "2. No duplicates allowed.\n",
        "3. Fast membership testing (in, not in).\n",
        "4. Support for mathematical operations (union, intersection, difference).\n",
        "5. Mutable (can be modified).\n",
        "\n",
        "**Creating Sets:**\n",
        "\n",
        "1. Using the set() function: my_set = set([1, 2, 3, 4, 5])\n",
        "2. Using the {} syntax: my_set = {1, 2, 3, 4, 5}\n",
        "\n",
        "**Set Operations:**\n",
        "\n",
        "1. Union (|): Combines two sets.\n",
        "Example: {1, 2, 3} | {3, 4, 5} = {1, 2, 3, 4, 5}\n",
        "2. Intersection (&): Returns common elements.\n",
        "Example: {1, 2, 3} & {3, 4, 5} = {3}\n",
        "3. Difference (-): Returns elements in the first set but not the second.\n",
        "Example: {1, 2, 3} - {3, 4, 5} = {1, 2}\n",
        "4. Symmetric Difference (^): Returns elements in either set but not both.\n",
        "Example: {1, 2, 3} ^ {3, 4, 5} = {1, 2, 4, 5}\n",
        "\n",
        "**Set Methods:**\n",
        "\n",
        "1. add(element): Adds an element.\n",
        "2. remove(element): Removes an element.\n",
        "3. discard(element): Removes an element if present.\n",
        "4. pop(): Removes and returns an arbitrary element.\n",
        "5. clear(): Removes all elements.\n"
      ],
      "metadata": {
        "id": "3WcLRTxxQnjK"
      }
    },
    {
      "cell_type": "code",
      "source": [
        "#Examples:\n",
        "\n",
        "#1. Removing duplicates from a list:\n",
        "\n",
        "my_list = [1, 2, 2, 3, 4, 4, 5]\n",
        "my_set = set(my_list)\n",
        "print(my_set)\n"
      ],
      "metadata": {
        "colab": {
          "base_uri": "https://localhost:8080/"
        },
        "id": "DTShAzr4RCZz",
        "outputId": "f804ff37-72ee-4027-dc93-409351f14e5b"
      },
      "execution_count": 28,
      "outputs": [
        {
          "output_type": "stream",
          "name": "stdout",
          "text": [
            "{1, 2, 3, 4, 5}\n"
          ]
        }
      ]
    },
    {
      "cell_type": "code",
      "source": [
        "#2. Finding common elements between two lists:\n",
        "\n",
        "list1 = [1, 2, 3, 4, 5]\n",
        "list2 = [3, 4, 5, 6, 7]\n",
        "common_elements = set(list1) & set(list2)\n",
        "print(common_elements)"
      ],
      "metadata": {
        "colab": {
          "base_uri": "https://localhost:8080/"
        },
        "id": "YoRy-sgkRkTD",
        "outputId": "5a4bde44-14cf-4727-fd3d-521e6b901c7d"
      },
      "execution_count": 30,
      "outputs": [
        {
          "output_type": "stream",
          "name": "stdout",
          "text": [
            "{3, 4, 5}\n"
          ]
        }
      ]
    },
    {
      "cell_type": "code",
      "source": [
        "#3. Finding unique elements in a list:\n",
        "\n",
        "my_list = [1, 2, 2, 3, 4, 4, 5]\n",
        "unique_elements = set(my_list)\n",
        "print(unique_elements)"
      ],
      "metadata": {
        "colab": {
          "base_uri": "https://localhost:8080/"
        },
        "id": "t0eyH0W2RqOx",
        "outputId": "122f91d4-96ca-452c-807e-a18cf4853504"
      },
      "execution_count": 32,
      "outputs": [
        {
          "output_type": "stream",
          "name": "stdout",
          "text": [
            "{1, 2, 3, 4, 5}\n"
          ]
        }
      ]
    },
    {
      "cell_type": "markdown",
      "source": [
        "**QUE 6TH:Discuss the use cases of tuples and sets in Python programming**"
      ],
      "metadata": {
        "id": "J2Ibnj_pR5Pr"
      }
    },
    {
      "cell_type": "markdown",
      "source": [
        "**ANS**\n",
        "Tuples and sets are essential data structures in Python, offering unique benefits and use cases:\n",
        "\n",
        "**Tuples:**\n",
        "\n",
        "Use Cases:\n",
        "\n",
        "1. Constant data: Store constant values that shouldn't change.\n",
        "2. Data integrity: Ensure data consistency and immutability.\n",
        "3. Fast execution: Tuples are faster than lists for iteration and indexing.\n",
        "4. Dictionary keys: Tuples can be used as dictionary keys due to their immutability.\n",
        "5. Function arguments: Pass multiple arguments as a single tuple.\n",
        "6. Data structures: Implement complex data structures like graphs, trees, and queues.\n",
        "7. Database records: Represent database records or rows.\n",
        "8. Configuration files: Store configuration data.\n",
        "\n",
        "Real-world Examples:\n",
        "\n",
        "1. GPS coordinates (latitude, longitude)\n",
        "2. RGB color values (red, green, blue)\n",
        "3. Date and time (year, month, day, hour, minute, second)\n",
        "4. IP addresses (IPv4 or IPv6)\n",
        "5. Geometric points (x, y, z)\n",
        "\n",
        "**Sets:**\n",
        "\n",
        "Use Cases:\n",
        "\n",
        "1. Unique data: Store unique elements without duplicates.\n",
        "2. Fast membership testing: Check if an element exists in the set.\n",
        "3. Data deduplication: Remove duplicates from a list or other data structure.\n",
        "4. Intersection, union, and difference operations.\n",
        "5. Data analysis: Perform set operations for data insights.\n",
        "6. Database queries: Optimize queries using set operations.\n",
        "7. Authentication: Store unique user IDs or permissions.\n",
        "8. Text processing: Remove stopwords or duplicates from text data.\n",
        "\n",
        "Real-world Examples:\n",
        "\n",
        "1. Unique user IDs or usernames\n",
        "2. Product categories or tags\n",
        "3. Search query results\n",
        "4. Social network connections (friends, followers)\n",
        "5. Text classification labels\n",
        "\n",
        "Common Use Cases for Both:\n",
        "\n",
        "1. Data validation: Use tuples for constant data and sets for unique data.\n",
        "2. Data processing: Use tuples for fast iteration and sets for data deduplication.\n",
        "3. Data storage: Use tuples for compact data storage and sets for efficient data retrieval.\n",
        "\n"
      ],
      "metadata": {
        "id": "tr7z6cdSSMca"
      }
    },
    {
      "cell_type": "markdown",
      "source": [
        "**QUE 7TH:Describe how to add, modify, and delete items in a dictionary with examples**"
      ],
      "metadata": {
        "id": "PeupGnQTSvW2"
      }
    },
    {
      "cell_type": "markdown",
      "source": [
        "**ANS**"
      ],
      "metadata": {
        "id": "yL8Zg35OS-od"
      }
    },
    {
      "cell_type": "code",
      "source": [
        "#Adding Items\n",
        "\n",
        "#1. Direct Assignment: dict[key] = value\n",
        "\n",
        "\n",
        "my_dict = {\"name\": \"John\", \"age\": 30}\n",
        "my_dict[\"city\"] = \"New York\"\n",
        "print(my_dict)\n"
      ],
      "metadata": {
        "colab": {
          "base_uri": "https://localhost:8080/"
        },
        "id": "szZRlboSTAE5",
        "outputId": "95a6a816-9f48-4b43-c325-50520cd03fe9"
      },
      "execution_count": 34,
      "outputs": [
        {
          "output_type": "stream",
          "name": "stdout",
          "text": [
            "{'name': 'John', 'age': 30, 'city': 'New York'}\n"
          ]
        }
      ]
    },
    {
      "cell_type": "code",
      "source": [
        "#2. update() Method: dict.update({key: value})\n",
        "\n",
        "\n",
        "my_dict = {\"name\": \"John\", \"age\": 30}\n",
        "my_dict.update({\"city\": \"New York\"})\n",
        "print(my_dict)"
      ],
      "metadata": {
        "colab": {
          "base_uri": "https://localhost:8080/"
        },
        "id": "WribPbEZTGUC",
        "outputId": "5144ff9a-2b3f-4a43-8bb8-cb2f06a61628"
      },
      "execution_count": 36,
      "outputs": [
        {
          "output_type": "stream",
          "name": "stdout",
          "text": [
            "{'name': 'John', 'age': 30, 'city': 'New York'}\n"
          ]
        }
      ]
    },
    {
      "cell_type": "code",
      "source": [
        "#3. setdefault() Method: dict.setdefault(key, default_value)\n",
        "\n",
        "my_dict = {\"name\": \"John\", \"age\": 30}\n",
        "my_dict.setdefault(\"city\", \"New York\")\n",
        "print(my_dict)"
      ],
      "metadata": {
        "colab": {
          "base_uri": "https://localhost:8080/"
        },
        "id": "Pmch9pSTTNhg",
        "outputId": "39f4c32d-687d-4bd3-e976-fbadfcfcf486"
      },
      "execution_count": 38,
      "outputs": [
        {
          "output_type": "stream",
          "name": "stdout",
          "text": [
            "{'name': 'John', 'age': 30, 'city': 'New York'}\n"
          ]
        }
      ]
    },
    {
      "cell_type": "code",
      "source": [
        "#Modifying Items\n",
        "\n",
        "#1. Direct Assignment: dict[key] = new_value\n",
        "\n",
        "\n",
        "my_dict = {\"name\": \"John\", \"age\": 30}\n",
        "my_dict[\"age\"] = 31\n",
        "print(my_dict)"
      ],
      "metadata": {
        "colab": {
          "base_uri": "https://localhost:8080/"
        },
        "id": "uhRzzJOATZi4",
        "outputId": "559c1ca5-35eb-4a2f-e02e-08743a72e48c"
      },
      "execution_count": 40,
      "outputs": [
        {
          "output_type": "stream",
          "name": "stdout",
          "text": [
            "{'name': 'John', 'age': 31}\n"
          ]
        }
      ]
    },
    {
      "cell_type": "code",
      "source": [
        "#2. update() Method: dict.update({key: new_value})\n",
        "\n",
        "\n",
        "my_dict = {\"name\": \"John\", \"age\": 30}\n",
        "my_dict.update({\"age\": 31})\n",
        "print(my_dict)\n"
      ],
      "metadata": {
        "colab": {
          "base_uri": "https://localhost:8080/"
        },
        "id": "mp81-XvvThxf",
        "outputId": "50eb580a-320b-4aed-8801-dd84a7ced442"
      },
      "execution_count": 42,
      "outputs": [
        {
          "output_type": "stream",
          "name": "stdout",
          "text": [
            "{'name': 'John', 'age': 31}\n"
          ]
        }
      ]
    },
    {
      "cell_type": "code",
      "source": [
        "#Deleting Items\n",
        "\n",
        "#1. del Statement: del dict[key]\n",
        "\n",
        "\n",
        "my_dict = {\"name\": \"John\", \"age\": 30, \"city\": \"New York\"}\n",
        "del my_dict[\"city\"]\n",
        "print(my_dict)\n"
      ],
      "metadata": {
        "colab": {
          "base_uri": "https://localhost:8080/"
        },
        "id": "I3E--frATuPH",
        "outputId": "69d0a4d6-08cc-4699-db94-04df39f63195"
      },
      "execution_count": 45,
      "outputs": [
        {
          "output_type": "stream",
          "name": "stdout",
          "text": [
            "{'name': 'John', 'age': 30}\n"
          ]
        }
      ]
    },
    {
      "cell_type": "code",
      "source": [
        "#2. pop() Method: dict.pop(key)\n",
        "\n",
        "\n",
        "my_dict = {\"name\": \"John\", \"age\": 30, \"city\": \"New York\"}\n",
        "my_dict.pop(\"city\")\n",
        "print(my_dict)"
      ],
      "metadata": {
        "colab": {
          "base_uri": "https://localhost:8080/"
        },
        "id": "1M4BHfnHT2h-",
        "outputId": "eed67a33-ecbb-4dd3-fd74-87466c2eec63"
      },
      "execution_count": 47,
      "outputs": [
        {
          "output_type": "stream",
          "name": "stdout",
          "text": [
            "{'name': 'John', 'age': 30}\n"
          ]
        }
      ]
    },
    {
      "cell_type": "code",
      "source": [
        "#1. popitem() Method: dict.popitem()\n",
        "\n",
        "\n",
        "my_dict = {\"name\": \"John\", \"age\": 30, \"city\": \"New York\"}\n",
        "my_dict.popitem()\n",
        "print(my_dict)"
      ],
      "metadata": {
        "colab": {
          "base_uri": "https://localhost:8080/"
        },
        "id": "h8TDf96jUB-O",
        "outputId": "e9992751-a609-42ef-db67-cf76199bc216"
      },
      "execution_count": 49,
      "outputs": [
        {
          "output_type": "stream",
          "name": "stdout",
          "text": [
            "{'name': 'John', 'age': 30}\n"
          ]
        }
      ]
    },
    {
      "cell_type": "code",
      "source": [
        "#Clearing Dictionary\n",
        "\n",
        "#1. clear() Method: dict.clear()\n",
        "\n",
        "\n",
        "my_dict = {\"name\": \"John\", \"age\": 30, \"city\": \"New York\"}\n",
        "my_dict.clear()\n",
        "print(my_dict)\n"
      ],
      "metadata": {
        "colab": {
          "base_uri": "https://localhost:8080/"
        },
        "id": "QXKH2S-9UHgC",
        "outputId": "1410e45c-97f1-439b-ee31-39194061e0a6"
      },
      "execution_count": 51,
      "outputs": [
        {
          "output_type": "stream",
          "name": "stdout",
          "text": [
            "{}\n"
          ]
        }
      ]
    },
    {
      "cell_type": "markdown",
      "source": [
        "**QUE8 TH:Discuss the importance of dictionary keys being immutable and provide examples**"
      ],
      "metadata": {
        "id": "pOtFYj8IUeT-"
      }
    },
    {
      "cell_type": "markdown",
      "source": [
        "**ANS**:"
      ],
      "metadata": {
        "id": "7IvG_SoQU1nV"
      }
    },
    {
      "cell_type": "markdown",
      "source": [
        "In Python, dictionary keys must be immutable, meaning they cannot be changed after creation. This requirement ensures efficient and reliable dictionary operations.\n",
        "\n",
        "Why Immutability Matters:\n",
        "\n",
        "1. Hashing: Dictionary keys are hashed to determine their storage location. Immutable keys ensure consistent hashing, allowing for fast lookups.\n",
        "2. Uniqueness: Immutable keys prevent accidental changes, ensuring each key remains unique.\n",
        "3. Thread Safety: Immutable keys make dictionaries thread-safe, as multiple threads can access the dictionary without modifying keys.\n",
        "\n",
        "Immutable Key Types:\n",
        "\n",
        "1. Strings: \"hello\"\n",
        "2. Integers: 123\n",
        "3. Floats: 3.14\n",
        "4. Tuples: (1, 2, 3) (if tuple elements are immutable)\n",
        "5. Boolean: True or False\n",
        "6. None: None\n",
        "\n",
        "Mutable Key Types (Not Allowed):\n",
        "\n",
        "1. Lists: [1, 2, 3]\n",
        "2. Dictionaries: {\"a\": 1}\n",
        "3. Sets: {1, 2, 3}\n"
      ],
      "metadata": {
        "id": "BdvPjWvwU_ql"
      }
    },
    {
      "cell_type": "code",
      "source": [
        "#Examples:\n",
        "\n",
        "#Valid Dictionary with Immutable Keys:\n",
        "\n",
        "my_dict = {\"name\": \"John\", \"age\": 30, (1, 2): \"tuple key\"}\n",
        "print(my_dict[\"name\"])\n"
      ],
      "metadata": {
        "colab": {
          "base_uri": "https://localhost:8080/"
        },
        "id": "XF9DKE5oVLM5",
        "outputId": "7b830d15-7af9-4a78-831a-daba9cde1250"
      },
      "execution_count": 53,
      "outputs": [
        {
          "output_type": "stream",
          "name": "stdout",
          "text": [
            "John\n"
          ]
        }
      ]
    },
    {
      "cell_type": "code",
      "source": [
        "#Invalid Dictionary with Mutable Keys:\n",
        "\n",
        "my_list = [1, 2, 3]\n",
        "my_dict = {my_list: \"value\"}  # Raises TypeError"
      ],
      "metadata": {
        "id": "oMjWn3mPVOPw"
      },
      "execution_count": null,
      "outputs": []
    },
    {
      "cell_type": "markdown",
      "source": [
        "Workaround for Mutable Keys:\n",
        "\n",
        "1. Convert mutable objects to immutable types (e.g., tuple(my_list)).\n",
        "2. Use a unique identifier (e.g., id(my_list)) as the key.\n"
      ],
      "metadata": {
        "id": "oAmM5ousVgyT"
      }
    },
    {
      "cell_type": "code",
      "source": [],
      "metadata": {
        "id": "mZF86DBgVjX_"
      },
      "execution_count": null,
      "outputs": []
    }
  ]
}